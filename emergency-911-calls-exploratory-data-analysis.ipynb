{
 "cells": [
  {
   "cell_type": "markdown",
   "id": "7a406806",
   "metadata": {
    "papermill": {
     "duration": 0.017613,
     "end_time": "2022-10-20T15:48:05.764040",
     "exception": false,
     "start_time": "2022-10-20T15:48:05.746427",
     "status": "completed"
    },
    "tags": []
   },
   "source": [
    "hr/>\n",
    "\n",
    "# Emergency 911 Calls - Data Analysis\n",
    "**[by Rishab Bandodkar](https://www.kaggle.com)**\n",
    "<hr/>\n",
    "\n",
    "### Table of Contents\n",
    "* **1. [Introduction](#ch1)**\n",
    "* **2. [Dataset](#ch2)**\n",
    "    * 2.1 Imports\n",
    "    * 2.2 Get the Data\n",
    "    * 2.3 Analyze by Describing Data\n",
    "* **3. [Creating New Features](#ch3)**\n",
    "* **4. [Exploratory Data Analysis (EDA)](#ch4)**\n",
    "* **5. [Heatmap](#ch7)**\n",
    "* **6. [Clustermap](#ch8)**\n",
    "* **7. [References](#ch9)**"
   ]
  },
  {
   "cell_type": "markdown",
   "id": "cd56dde0",
   "metadata": {
    "papermill": {
     "duration": 0.014688,
     "end_time": "2022-10-20T15:48:05.792016",
     "exception": false,
     "start_time": "2022-10-20T15:48:05.777328",
     "status": "completed"
    },
    "tags": []
   },
   "source": [
    "<a id=\"ch1\"></a>\n",
    "# 1. Introduction \n",
    "<hr/>\n",
    "\n",
    "One of the objectives of this project is to **show step-by-step how to analyze and visualize the dataset to better understand 911 calls and what originates them.** Moreover, we are going to explain most of the concepts used so that you understand why we are using them. \n",
    "\n",
    "If you have a question or feedback, do not hesitate to write and if you like this kernel,<b><font color='green'> please upvote! </font></b>\n",
    "\n",
    "The following questions will be answered throughout the Kernel:\n",
    "* ***Which features are available in the dataset?***\n",
    "* ***How many rows and columns does the dataset have?***\n",
    "* ***Which features are categorical?***\n",
    "* ***Which features are numerical?***\n",
    "* ***Which features contain blank, null or empty values?***\n",
    "* ***What are the data types for various features?***\n",
    "* ***How many zip codes does the dataset have?***\n",
    "* ***What are the top 5 zip codes for 911 calls?***\n",
    "* ***What are the top 5 townships (twp) for 911 calls?***\n",
    "* ***How many unique title of emergency codes are there?***\n",
    "* ***What is the most common Reason for a 911 call based off of this new column?***\n",
    "\n",
    "\n",
    "\n",
    "<img width=\"1400\" height=\"980\" alt=\"Ambulance\" title=\"Ambulance\" fetchpriority=\"high\" decoding=\"async\" src=\"https://hips.hearstapps.com/pop.h-cdn.co/assets/17/26/1600x1600/square-1498656444-gettyimages-128628981.jpg?resize=640:*\" sizes=\"auto\" class=\"lqip lazyloaded css-uyz67a e1lki9i00\">\n",
    "<br>"
   ]
  },
  {
   "cell_type": "markdown",
   "id": "9fc7870a",
   "metadata": {
    "papermill": {
     "duration": 0.0131,
     "end_time": "2022-10-20T15:48:05.819479",
     "exception": false,
     "start_time": "2022-10-20T15:48:05.806379",
     "status": "completed"
    },
    "tags": []
   },
   "source": [
    "<a id=\"ch2\"></a>\n",
    "# 2. Dataset\n",
    "<hr/>\n",
    "\n",
    "* This dataset contains emergency calls from Montgomery County, PA. \n",
    "* It includes calls from 2015 to 2020. \n",
    "\n",
    "***Montgomery County***\n",
    "\n",
    "Montgomery County, locally also referred to as Montco, is a county located in the Commonwealth of Pennsylvania. As of the 2010 census, the population was 799,874, making it the third-most populous county in Pennsylvania, after Philadelphia and Allegheny Counties. The county seat is Norristown. Montgomery County is very diverse, ranging from farms and open land in Upper Hanover to densely populated rowhouse streets in Cheltenham.\n",
    "\n",
    "***911 Calls***\n",
    "\n",
    "Created by Congress in 2004 as the 911 Implementation and Coordination Office (ICO), the National 911 Program is housed within the National Highway Traffic Safety Administration at the U.S. Department of Transportation and is a joint program with the National Telecommunication and Information Administration in the Department of Commerce.\n",
    "\n",
    "***Feature Columns***\n",
    "    \n",
    "* **lat:** String variable, Latitude\n",
    "* **lng:** String variable, Longitude\n",
    "* **desc:** String variable, Description of the Emergency Call\n",
    "* **zip:** String variable, ZIP Code\n",
    "* **title:** String variable, Title of Emergency\n",
    "* **timeStamp:** String variable, Date and time of the call, YYYY-MM-DD HH:MM:SS\n",
    "* **twp:** String variable, Township\n",
    "* **addr:** String variable, General Address\n",
    "* **e:** String variable, Dummy variable, Index column (always 1)"
   ]
  },
  {
   "cell_type": "markdown",
   "id": "e823a4ae",
   "metadata": {
    "papermill": {
     "duration": 0.01271,
     "end_time": "2022-10-20T15:48:05.845474",
     "exception": false,
     "start_time": "2022-10-20T15:48:05.832764",
     "status": "completed"
    },
    "tags": []
   },
   "source": [
    "## 2.1 Imports"
   ]
  },
  {
   "cell_type": "code",
   "execution_count": 1,
   "id": "e6873331",
   "metadata": {
    "execution": {
     "iopub.execute_input": "2022-10-20T15:48:05.875593Z",
     "iopub.status.busy": "2022-10-20T15:48:05.874703Z",
     "iopub.status.idle": "2022-10-20T15:48:06.935460Z",
     "shell.execute_reply": "2022-10-20T15:48:06.933921Z"
    },
    "papermill": {
     "duration": 1.079873,
     "end_time": "2022-10-20T15:48:06.938833",
     "exception": false,
     "start_time": "2022-10-20T15:48:05.858960",
     "status": "completed"
    },
    "tags": []
   },
   "outputs": [],
   "source": [
    "# data analysis and wrangling\n",
    "import pandas as pd\n",
    "import numpy as np\n",
    "import random as rnd\n",
    "\n",
    "# visualization\n",
    "import seaborn as sns\n",
    "import matplotlib.pyplot as plt\n",
    "%matplotlib inline"
   ]
  },
  {
   "cell_type": "markdown",
   "id": "926c7140",
   "metadata": {
    "papermill": {
     "duration": 0.012864,
     "end_time": "2022-10-20T15:48:06.965258",
     "exception": false,
     "start_time": "2022-10-20T15:48:06.952394",
     "status": "completed"
    },
    "tags": []
   },
   "source": [
    "## 2.2 Get the Data\n",
    "The Python Pandas packages helps us work with our datasets. We start by acquiring the datasets into Pandas DataFrames."
   ]
  },
  {
   "cell_type": "code",
   "execution_count": 2,
   "id": "4a2a65b7",
   "metadata": {
    "execution": {
     "iopub.execute_input": "2022-10-20T15:48:06.998583Z",
     "iopub.status.busy": "2022-10-20T15:48:06.997539Z",
     "iopub.status.idle": "2022-10-20T15:48:11.405104Z",
     "shell.execute_reply": "2022-10-20T15:48:11.403732Z"
    },
    "papermill": {
     "duration": 4.428804,
     "end_time": "2022-10-20T15:48:11.408665",
     "exception": false,
     "start_time": "2022-10-20T15:48:06.979861",
     "status": "completed"
    },
    "tags": []
   },
   "outputs": [],
   "source": [
    "df = pd.read_csv('../input/montcoalert/911.csv')"
   ]
  },
  {
   "cell_type": "markdown",
   "id": "29e69c2f",
   "metadata": {
    "papermill": {
     "duration": 0.013642,
     "end_time": "2022-10-20T15:48:11.436398",
     "exception": false,
     "start_time": "2022-10-20T15:48:11.422756",
     "status": "completed"
    },
    "tags": []
   },
   "source": [
    "## 2.3 Analyze by describing data\n",
    "Pandas also helps describe the datasets answering following questions early in our project.\n",
    "\n",
    "***Which features are available in the dataset?***"
   ]
  },
  {
   "cell_type": "code",
   "execution_count": 3,
   "id": "b0ed6a3b",
   "metadata": {
    "execution": {
     "iopub.execute_input": "2022-10-20T15:48:11.464470Z",
     "iopub.status.busy": "2022-10-20T15:48:11.463969Z",
     "iopub.status.idle": "2022-10-20T15:48:11.470677Z",
     "shell.execute_reply": "2022-10-20T15:48:11.469468Z"
    },
    "papermill": {
     "duration": 0.026114,
     "end_time": "2022-10-20T15:48:11.475494",
     "exception": false,
     "start_time": "2022-10-20T15:48:11.449380",
     "status": "completed"
    },
    "tags": []
   },
   "outputs": [
    {
     "name": "stdout",
     "output_type": "stream",
     "text": [
      "['lat' 'lng' 'desc' 'zip' 'title' 'timeStamp' 'twp' 'addr' 'e']\n"
     ]
    }
   ],
   "source": [
    "print(df.columns.values)"
   ]
  },
  {
   "cell_type": "markdown",
   "id": "924c7c9f",
   "metadata": {
    "papermill": {
     "duration": 0.012863,
     "end_time": "2022-10-20T15:48:11.502519",
     "exception": false,
     "start_time": "2022-10-20T15:48:11.489656",
     "status": "completed"
    },
    "tags": []
   },
   "source": [
    "***How many rows and columns does the dataset have?***"
   ]
  },
  {
   "cell_type": "code",
   "execution_count": 4,
   "id": "0801972f",
   "metadata": {
    "execution": {
     "iopub.execute_input": "2022-10-20T15:48:11.530753Z",
     "iopub.status.busy": "2022-10-20T15:48:11.530188Z",
     "iopub.status.idle": "2022-10-20T15:48:11.536267Z",
     "shell.execute_reply": "2022-10-20T15:48:11.535039Z"
    },
    "papermill": {
     "duration": 0.025171,
     "end_time": "2022-10-20T15:48:11.540822",
     "exception": false,
     "start_time": "2022-10-20T15:48:11.515651",
     "status": "completed"
    },
    "tags": []
   },
   "outputs": [
    {
     "name": "stdout",
     "output_type": "stream",
     "text": [
      "Rows     : 663522\n",
      "Columns  : 9\n"
     ]
    }
   ],
   "source": [
    "print('Rows     :',df.shape[0])\n",
    "print('Columns  :',df.shape[1])"
   ]
  },
  {
   "cell_type": "code",
   "execution_count": 5,
   "id": "d094ad5a",
   "metadata": {
    "execution": {
     "iopub.execute_input": "2022-10-20T15:48:11.569468Z",
     "iopub.status.busy": "2022-10-20T15:48:11.568612Z",
     "iopub.status.idle": "2022-10-20T15:48:11.761783Z",
     "shell.execute_reply": "2022-10-20T15:48:11.760615Z"
    },
    "papermill": {
     "duration": 0.212579,
     "end_time": "2022-10-20T15:48:11.766449",
     "exception": false,
     "start_time": "2022-10-20T15:48:11.553870",
     "status": "completed"
    },
    "tags": []
   },
   "outputs": [
    {
     "name": "stdout",
     "output_type": "stream",
     "text": [
      "<class 'pandas.core.frame.DataFrame'>\n",
      "RangeIndex: 663522 entries, 0 to 663521\n",
      "Data columns (total 9 columns):\n",
      " #   Column     Non-Null Count   Dtype  \n",
      "---  ------     --------------   -----  \n",
      " 0   lat        663522 non-null  float64\n",
      " 1   lng        663522 non-null  float64\n",
      " 2   desc       663522 non-null  object \n",
      " 3   zip        583323 non-null  float64\n",
      " 4   title      663522 non-null  object \n",
      " 5   timeStamp  663522 non-null  object \n",
      " 6   twp        663229 non-null  object \n",
      " 7   addr       663522 non-null  object \n",
      " 8   e          663522 non-null  int64  \n",
      "dtypes: float64(3), int64(1), object(5)\n",
      "memory usage: 45.6+ MB\n"
     ]
    }
   ],
   "source": [
    "df.info()"
   ]
  },
  {
   "cell_type": "markdown",
   "id": "c9e26eb7",
   "metadata": {
    "papermill": {
     "duration": 0.012644,
     "end_time": "2022-10-20T15:48:11.792712",
     "exception": false,
     "start_time": "2022-10-20T15:48:11.780068",
     "status": "completed"
    },
    "tags": []
   },
   "source": [
    "***Which features are categorical?***\n",
    "\n",
    "* Categorical: desc, zipcode, title, twp, addr, e.\n",
    "\n",
    "***Which features are numerical?***\n",
    "\n",
    "* Continous: lat, lng.\n",
    "* Discrete: timeStamp."
   ]
  },
  {
   "cell_type": "code",
   "execution_count": 6,
   "id": "ef325506",
   "metadata": {
    "execution": {
     "iopub.execute_input": "2022-10-20T15:48:11.821479Z",
     "iopub.status.busy": "2022-10-20T15:48:11.820974Z",
     "iopub.status.idle": "2022-10-20T15:48:11.844189Z",
     "shell.execute_reply": "2022-10-20T15:48:11.842979Z"
    },
    "papermill": {
     "duration": 0.041077,
     "end_time": "2022-10-20T15:48:11.846752",
     "exception": false,
     "start_time": "2022-10-20T15:48:11.805675",
     "status": "completed"
    },
    "tags": []
   },
   "outputs": [
    {
     "data": {
      "text/html": [
       "<div>\n",
       "<style scoped>\n",
       "    .dataframe tbody tr th:only-of-type {\n",
       "        vertical-align: middle;\n",
       "    }\n",
       "\n",
       "    .dataframe tbody tr th {\n",
       "        vertical-align: top;\n",
       "    }\n",
       "\n",
       "    .dataframe thead th {\n",
       "        text-align: right;\n",
       "    }\n",
       "</style>\n",
       "<table border=\"1\" class=\"dataframe\">\n",
       "  <thead>\n",
       "    <tr style=\"text-align: right;\">\n",
       "      <th></th>\n",
       "      <th>lat</th>\n",
       "      <th>lng</th>\n",
       "      <th>desc</th>\n",
       "      <th>zip</th>\n",
       "      <th>title</th>\n",
       "      <th>timeStamp</th>\n",
       "      <th>twp</th>\n",
       "      <th>addr</th>\n",
       "      <th>e</th>\n",
       "    </tr>\n",
       "  </thead>\n",
       "  <tbody>\n",
       "    <tr>\n",
       "      <th>0</th>\n",
       "      <td>40.297876</td>\n",
       "      <td>-75.581294</td>\n",
       "      <td>REINDEER CT &amp; DEAD END;  NEW HANOVER; Station ...</td>\n",
       "      <td>19525.0</td>\n",
       "      <td>EMS: BACK PAINS/INJURY</td>\n",
       "      <td>2015-12-10 17:10:52</td>\n",
       "      <td>NEW HANOVER</td>\n",
       "      <td>REINDEER CT &amp; DEAD END</td>\n",
       "      <td>1</td>\n",
       "    </tr>\n",
       "    <tr>\n",
       "      <th>1</th>\n",
       "      <td>40.258061</td>\n",
       "      <td>-75.264680</td>\n",
       "      <td>BRIAR PATH &amp; WHITEMARSH LN;  HATFIELD TOWNSHIP...</td>\n",
       "      <td>19446.0</td>\n",
       "      <td>EMS: DIABETIC EMERGENCY</td>\n",
       "      <td>2015-12-10 17:29:21</td>\n",
       "      <td>HATFIELD TOWNSHIP</td>\n",
       "      <td>BRIAR PATH &amp; WHITEMARSH LN</td>\n",
       "      <td>1</td>\n",
       "    </tr>\n",
       "    <tr>\n",
       "      <th>2</th>\n",
       "      <td>40.121182</td>\n",
       "      <td>-75.351975</td>\n",
       "      <td>HAWS AVE; NORRISTOWN; 2015-12-10 @ 14:39:21-St...</td>\n",
       "      <td>19401.0</td>\n",
       "      <td>Fire: GAS-ODOR/LEAK</td>\n",
       "      <td>2015-12-10 14:39:21</td>\n",
       "      <td>NORRISTOWN</td>\n",
       "      <td>HAWS AVE</td>\n",
       "      <td>1</td>\n",
       "    </tr>\n",
       "    <tr>\n",
       "      <th>3</th>\n",
       "      <td>40.116153</td>\n",
       "      <td>-75.343513</td>\n",
       "      <td>AIRY ST &amp; SWEDE ST;  NORRISTOWN; Station 308A;...</td>\n",
       "      <td>19401.0</td>\n",
       "      <td>EMS: CARDIAC EMERGENCY</td>\n",
       "      <td>2015-12-10 16:47:36</td>\n",
       "      <td>NORRISTOWN</td>\n",
       "      <td>AIRY ST &amp; SWEDE ST</td>\n",
       "      <td>1</td>\n",
       "    </tr>\n",
       "    <tr>\n",
       "      <th>4</th>\n",
       "      <td>40.251492</td>\n",
       "      <td>-75.603350</td>\n",
       "      <td>CHERRYWOOD CT &amp; DEAD END;  LOWER POTTSGROVE; S...</td>\n",
       "      <td>NaN</td>\n",
       "      <td>EMS: DIZZINESS</td>\n",
       "      <td>2015-12-10 16:56:52</td>\n",
       "      <td>LOWER POTTSGROVE</td>\n",
       "      <td>CHERRYWOOD CT &amp; DEAD END</td>\n",
       "      <td>1</td>\n",
       "    </tr>\n",
       "  </tbody>\n",
       "</table>\n",
       "</div>"
      ],
      "text/plain": [
       "         lat        lng                                               desc  \\\n",
       "0  40.297876 -75.581294  REINDEER CT & DEAD END;  NEW HANOVER; Station ...   \n",
       "1  40.258061 -75.264680  BRIAR PATH & WHITEMARSH LN;  HATFIELD TOWNSHIP...   \n",
       "2  40.121182 -75.351975  HAWS AVE; NORRISTOWN; 2015-12-10 @ 14:39:21-St...   \n",
       "3  40.116153 -75.343513  AIRY ST & SWEDE ST;  NORRISTOWN; Station 308A;...   \n",
       "4  40.251492 -75.603350  CHERRYWOOD CT & DEAD END;  LOWER POTTSGROVE; S...   \n",
       "\n",
       "       zip                    title            timeStamp                twp  \\\n",
       "0  19525.0   EMS: BACK PAINS/INJURY  2015-12-10 17:10:52        NEW HANOVER   \n",
       "1  19446.0  EMS: DIABETIC EMERGENCY  2015-12-10 17:29:21  HATFIELD TOWNSHIP   \n",
       "2  19401.0      Fire: GAS-ODOR/LEAK  2015-12-10 14:39:21         NORRISTOWN   \n",
       "3  19401.0   EMS: CARDIAC EMERGENCY  2015-12-10 16:47:36         NORRISTOWN   \n",
       "4      NaN           EMS: DIZZINESS  2015-12-10 16:56:52   LOWER POTTSGROVE   \n",
       "\n",
       "                         addr  e  \n",
       "0      REINDEER CT & DEAD END  1  \n",
       "1  BRIAR PATH & WHITEMARSH LN  1  \n",
       "2                    HAWS AVE  1  \n",
       "3          AIRY ST & SWEDE ST  1  \n",
       "4    CHERRYWOOD CT & DEAD END  1  "
      ]
     },
     "execution_count": 6,
     "metadata": {},
     "output_type": "execute_result"
    }
   ],
   "source": [
    "# preview the data\n",
    "df.head()"
   ]
  },
  {
   "cell_type": "markdown",
   "id": "761e1f05",
   "metadata": {
    "papermill": {
     "duration": 0.013158,
     "end_time": "2022-10-20T15:48:11.873554",
     "exception": false,
     "start_time": "2022-10-20T15:48:11.860396",
     "status": "completed"
    },
    "tags": []
   },
   "source": [
    "### Dropping column e\n",
    "* As the column data dosent seem to have that relevance"
   ]
  },
  {
   "cell_type": "code",
   "execution_count": 7,
   "id": "d90fc37c",
   "metadata": {
    "execution": {
     "iopub.execute_input": "2022-10-20T15:48:11.903539Z",
     "iopub.status.busy": "2022-10-20T15:48:11.902628Z",
     "iopub.status.idle": "2022-10-20T15:48:11.979191Z",
     "shell.execute_reply": "2022-10-20T15:48:11.977933Z"
    },
    "papermill": {
     "duration": 0.094713,
     "end_time": "2022-10-20T15:48:11.982301",
     "exception": false,
     "start_time": "2022-10-20T15:48:11.887588",
     "status": "completed"
    },
    "tags": []
   },
   "outputs": [],
   "source": [
    "df = df.drop('e',axis=1)"
   ]
  },
  {
   "cell_type": "markdown",
   "id": "473b3927",
   "metadata": {
    "papermill": {
     "duration": 0.013,
     "end_time": "2022-10-20T15:48:12.008975",
     "exception": false,
     "start_time": "2022-10-20T15:48:11.995975",
     "status": "completed"
    },
    "tags": []
   },
   "source": [
    "***What are the data types for various features?***\n",
    "\n",
    "Three features are floats and five are objects. "
   ]
  },
  {
   "cell_type": "code",
   "execution_count": 8,
   "id": "d3b07d4c",
   "metadata": {
    "execution": {
     "iopub.execute_input": "2022-10-20T15:48:12.037912Z",
     "iopub.status.busy": "2022-10-20T15:48:12.037445Z",
     "iopub.status.idle": "2022-10-20T15:48:12.213930Z",
     "shell.execute_reply": "2022-10-20T15:48:12.212464Z"
    },
    "papermill": {
     "duration": 0.194814,
     "end_time": "2022-10-20T15:48:12.217102",
     "exception": false,
     "start_time": "2022-10-20T15:48:12.022288",
     "status": "completed"
    },
    "tags": []
   },
   "outputs": [
    {
     "name": "stdout",
     "output_type": "stream",
     "text": [
      "<class 'pandas.core.frame.DataFrame'>\n",
      "RangeIndex: 663522 entries, 0 to 663521\n",
      "Data columns (total 8 columns):\n",
      " #   Column     Non-Null Count   Dtype  \n",
      "---  ------     --------------   -----  \n",
      " 0   lat        663522 non-null  float64\n",
      " 1   lng        663522 non-null  float64\n",
      " 2   desc       663522 non-null  object \n",
      " 3   zip        583323 non-null  float64\n",
      " 4   title      663522 non-null  object \n",
      " 5   timeStamp  663522 non-null  object \n",
      " 6   twp        663229 non-null  object \n",
      " 7   addr       663522 non-null  object \n",
      "dtypes: float64(3), object(5)\n",
      "memory usage: 40.5+ MB\n"
     ]
    }
   ],
   "source": [
    "df.info()"
   ]
  },
  {
   "cell_type": "markdown",
   "id": "cb46eade",
   "metadata": {
    "papermill": {
     "duration": 0.013338,
     "end_time": "2022-10-20T15:48:12.244440",
     "exception": false,
     "start_time": "2022-10-20T15:48:12.231102",
     "status": "completed"
    },
    "tags": []
   },
   "source": [
    "***How many zip codes does the dataset have?***"
   ]
  },
  {
   "cell_type": "code",
   "execution_count": 9,
   "id": "13cfbf2f",
   "metadata": {
    "execution": {
     "iopub.execute_input": "2022-10-20T15:48:12.273195Z",
     "iopub.status.busy": "2022-10-20T15:48:12.272719Z",
     "iopub.status.idle": "2022-10-20T15:48:12.290295Z",
     "shell.execute_reply": "2022-10-20T15:48:12.289214Z"
    },
    "papermill": {
     "duration": 0.034664,
     "end_time": "2022-10-20T15:48:12.292644",
     "exception": false,
     "start_time": "2022-10-20T15:48:12.257980",
     "status": "completed"
    },
    "tags": []
   },
   "outputs": [
    {
     "data": {
      "text/plain": [
       "204"
      ]
     },
     "execution_count": 9,
     "metadata": {},
     "output_type": "execute_result"
    }
   ],
   "source": [
    "df['zip'].nunique()"
   ]
  },
  {
   "cell_type": "markdown",
   "id": "1ac705d3",
   "metadata": {
    "papermill": {
     "duration": 0.01326,
     "end_time": "2022-10-20T15:48:12.319546",
     "exception": false,
     "start_time": "2022-10-20T15:48:12.306286",
     "status": "completed"
    },
    "tags": []
   },
   "source": [
    "***What are the top 5 zip codes for 911 calls?***"
   ]
  },
  {
   "cell_type": "code",
   "execution_count": 10,
   "id": "d7cd6afe",
   "metadata": {
    "execution": {
     "iopub.execute_input": "2022-10-20T15:48:12.349101Z",
     "iopub.status.busy": "2022-10-20T15:48:12.348198Z",
     "iopub.status.idle": "2022-10-20T15:48:12.371660Z",
     "shell.execute_reply": "2022-10-20T15:48:12.370587Z"
    },
    "papermill": {
     "duration": 0.040832,
     "end_time": "2022-10-20T15:48:12.373994",
     "exception": false,
     "start_time": "2022-10-20T15:48:12.333162",
     "status": "completed"
    },
    "tags": []
   },
   "outputs": [
    {
     "data": {
      "text/plain": [
       "19401.0    45606\n",
       "19464.0    43910\n",
       "19403.0    34888\n",
       "19446.0    32270\n",
       "19406.0    22464\n",
       "Name: zip, dtype: int64"
      ]
     },
     "execution_count": 10,
     "metadata": {},
     "output_type": "execute_result"
    }
   ],
   "source": [
    "df['zip'].value_counts().head(5)"
   ]
  },
  {
   "cell_type": "markdown",
   "id": "e25fe97a",
   "metadata": {
    "papermill": {
     "duration": 0.013559,
     "end_time": "2022-10-20T15:48:12.401361",
     "exception": false,
     "start_time": "2022-10-20T15:48:12.387802",
     "status": "completed"
    },
    "tags": []
   },
   "source": [
    "**What are the top 5 townships (twp) for 911 calls?**"
   ]
  },
  {
   "cell_type": "code",
   "execution_count": 11,
   "id": "425aef50",
   "metadata": {
    "execution": {
     "iopub.execute_input": "2022-10-20T15:48:12.431106Z",
     "iopub.status.busy": "2022-10-20T15:48:12.430665Z",
     "iopub.status.idle": "2022-10-20T15:48:12.481671Z",
     "shell.execute_reply": "2022-10-20T15:48:12.480755Z"
    },
    "papermill": {
     "duration": 0.068576,
     "end_time": "2022-10-20T15:48:12.483775",
     "exception": false,
     "start_time": "2022-10-20T15:48:12.415199",
     "status": "completed"
    },
    "tags": []
   },
   "outputs": [
    {
     "data": {
      "text/plain": [
       "LOWER MERION    55490\n",
       "ABINGTON        39947\n",
       "NORRISTOWN      37633\n",
       "UPPER MERION    36010\n",
       "CHELTENHAM      30574\n",
       "Name: twp, dtype: int64"
      ]
     },
     "execution_count": 11,
     "metadata": {},
     "output_type": "execute_result"
    }
   ],
   "source": [
    "df['twp'].value_counts().head(5)"
   ]
  },
  {
   "cell_type": "markdown",
   "id": "10cad07f",
   "metadata": {
    "papermill": {
     "duration": 0.013632,
     "end_time": "2022-10-20T15:48:12.511525",
     "exception": false,
     "start_time": "2022-10-20T15:48:12.497893",
     "status": "completed"
    },
    "tags": []
   },
   "source": [
    "***How many unique title of emergency codes are there?***"
   ]
  },
  {
   "cell_type": "code",
   "execution_count": 12,
   "id": "693d99ce",
   "metadata": {
    "execution": {
     "iopub.execute_input": "2022-10-20T15:48:12.541935Z",
     "iopub.status.busy": "2022-10-20T15:48:12.540896Z",
     "iopub.status.idle": "2022-10-20T15:48:12.616937Z",
     "shell.execute_reply": "2022-10-20T15:48:12.615464Z"
    },
    "papermill": {
     "duration": 0.094213,
     "end_time": "2022-10-20T15:48:12.619709",
     "exception": false,
     "start_time": "2022-10-20T15:48:12.525496",
     "status": "completed"
    },
    "tags": []
   },
   "outputs": [
    {
     "data": {
      "text/plain": [
       "148"
      ]
     },
     "execution_count": 12,
     "metadata": {},
     "output_type": "execute_result"
    }
   ],
   "source": [
    "df['title'].nunique()"
   ]
  },
  {
   "cell_type": "markdown",
   "id": "9e27ae3b",
   "metadata": {
    "papermill": {
     "duration": 0.013647,
     "end_time": "2022-10-20T15:48:12.647679",
     "exception": false,
     "start_time": "2022-10-20T15:48:12.634032",
     "status": "completed"
    },
    "tags": []
   },
   "source": [
    "<a id=\"ch3\"></a>\n",
    "# 3. Creating new features\n",
    "<hr/>"
   ]
  },
  {
   "cell_type": "markdown",
   "id": "210a3ea2",
   "metadata": {
    "papermill": {
     "duration": 0.013616,
     "end_time": "2022-10-20T15:48:12.675885",
     "exception": false,
     "start_time": "2022-10-20T15:48:12.662269",
     "status": "completed"
    },
    "tags": []
   },
   "source": [
    "** In the titles column there are \"Reasons/Departments\" specified before the title code. These are EMS, Fire, and Traffic. Use .apply() with a custom lambda expression to create a new column called \"Reason\" that contains this string value.** \n",
    "\n",
    "**For example, if the title column value is EMS: BACK PAINS/INJURY , the Reason column value would be EMS. **"
   ]
  },
  {
   "cell_type": "code",
   "execution_count": 13,
   "id": "618f0ee6",
   "metadata": {
    "execution": {
     "iopub.execute_input": "2022-10-20T15:48:12.705821Z",
     "iopub.status.busy": "2022-10-20T15:48:12.705339Z",
     "iopub.status.idle": "2022-10-20T15:48:13.029653Z",
     "shell.execute_reply": "2022-10-20T15:48:13.028230Z"
    },
    "papermill": {
     "duration": 0.343324,
     "end_time": "2022-10-20T15:48:13.033171",
     "exception": false,
     "start_time": "2022-10-20T15:48:12.689847",
     "status": "completed"
    },
    "tags": []
   },
   "outputs": [],
   "source": [
    "df['Reason'] = df['title'].apply(lambda title: title.split(':')[0])"
   ]
  },
  {
   "cell_type": "markdown",
   "id": "c35290a9",
   "metadata": {
    "papermill": {
     "duration": 0.01335,
     "end_time": "2022-10-20T15:48:13.060683",
     "exception": false,
     "start_time": "2022-10-20T15:48:13.047333",
     "status": "completed"
    },
    "tags": []
   },
   "source": [
    "** What is the most common Reason for a 911 call based off of this new column? **"
   ]
  },
  {
   "cell_type": "code",
   "execution_count": 14,
   "id": "48f15cbc",
   "metadata": {
    "execution": {
     "iopub.execute_input": "2022-10-20T15:48:13.089951Z",
     "iopub.status.busy": "2022-10-20T15:48:13.089490Z",
     "iopub.status.idle": "2022-10-20T15:48:13.160822Z",
     "shell.execute_reply": "2022-10-20T15:48:13.159706Z"
    },
    "papermill": {
     "duration": 0.088934,
     "end_time": "2022-10-20T15:48:13.163201",
     "exception": false,
     "start_time": "2022-10-20T15:48:13.074267",
     "status": "completed"
    },
    "tags": []
   },
   "outputs": [
    {
     "data": {
      "text/plain": [
       "EMS        332692\n",
       "Traffic    230208\n",
       "Fire       100622\n",
       "Name: Reason, dtype: int64"
      ]
     },
     "execution_count": 14,
     "metadata": {},
     "output_type": "execute_result"
    }
   ],
   "source": [
    "df['Reason'].value_counts()"
   ]
  },
  {
   "cell_type": "markdown",
   "id": "f2830ab7",
   "metadata": {
    "papermill": {
     "duration": 0.013643,
     "end_time": "2022-10-20T15:48:13.191256",
     "exception": false,
     "start_time": "2022-10-20T15:48:13.177613",
     "status": "completed"
    },
    "tags": []
   },
   "source": [
    "# 4. Exploratory Data Analysis\n",
    "** Now use seaborn to create a countplot of 911 calls by Reason. **\n",
    "* And we see that the EMS is the most occured reason *"
   ]
  },
  {
   "cell_type": "code",
   "execution_count": 15,
   "id": "8196a404",
   "metadata": {
    "execution": {
     "iopub.execute_input": "2022-10-20T15:48:13.221359Z",
     "iopub.status.busy": "2022-10-20T15:48:13.220852Z",
     "iopub.status.idle": "2022-10-20T15:48:13.984613Z",
     "shell.execute_reply": "2022-10-20T15:48:13.983478Z"
    },
    "papermill": {
     "duration": 0.782177,
     "end_time": "2022-10-20T15:48:13.987516",
     "exception": false,
     "start_time": "2022-10-20T15:48:13.205339",
     "status": "completed"
    },
    "tags": []
   },
   "outputs": [
    {
     "data": {
      "text/plain": [
       "<AxesSubplot:xlabel='Reason', ylabel='count'>"
      ]
     },
     "execution_count": 15,
     "metadata": {},
     "output_type": "execute_result"
    },
    {
     "data": {
      "image/png": "[encoded data removed]",
      "text/plain": [
       "<Figure size 432x288 with 1 Axes>"
      ]
     },
     "metadata": {
      "needs_background": "light"
     },
     "output_type": "display_data"
    }
   ],
   "source": [
    "sns.countplot(x='Reason',data=df,palette='viridis')"
   ]
  },
  {
   "cell_type": "markdown",
   "id": "1d833a16",
   "metadata": {
    "papermill": {
     "duration": 0.014366,
     "end_time": "2022-10-20T15:48:14.016409",
     "exception": false,
     "start_time": "2022-10-20T15:48:14.002043",
     "status": "completed"
    },
    "tags": []
   },
   "source": [
    "** Now let us begin to focus on time information. What is the data type of the objects in the timeStamp column? **\n",
    "** we observed that the time imformation was provided was a string data type and had to be converted to date time**"
   ]
  },
  {
   "cell_type": "code",
   "execution_count": 16,
   "id": "ff1a91a6",
   "metadata": {
    "execution": {
     "iopub.execute_input": "2022-10-20T15:48:14.047254Z",
     "iopub.status.busy": "2022-10-20T15:48:14.046792Z",
     "iopub.status.idle": "2022-10-20T15:48:14.054384Z",
     "shell.execute_reply": "2022-10-20T15:48:14.053167Z"
    },
    "papermill": {
     "duration": 0.025875,
     "end_time": "2022-10-20T15:48:14.056808",
     "exception": false,
     "start_time": "2022-10-20T15:48:14.030933",
     "status": "completed"
    },
    "tags": []
   },
   "outputs": [
    {
     "data": {
      "text/plain": [
       "str"
      ]
     },
     "execution_count": 16,
     "metadata": {},
     "output_type": "execute_result"
    }
   ],
   "source": [
    "type(df['timeStamp'].iloc[0])"
   ]
  },
  {
   "cell_type": "code",
   "execution_count": 17,
   "id": "05aca3e8",
   "metadata": {
    "execution": {
     "iopub.execute_input": "2022-10-20T15:48:14.087802Z",
     "iopub.status.busy": "2022-10-20T15:48:14.086967Z",
     "iopub.status.idle": "2022-10-20T15:48:14.298912Z",
     "shell.execute_reply": "2022-10-20T15:48:14.297592Z"
    },
    "papermill": {
     "duration": 0.230819,
     "end_time": "2022-10-20T15:48:14.301943",
     "exception": false,
     "start_time": "2022-10-20T15:48:14.071124",
     "status": "completed"
    },
    "tags": []
   },
   "outputs": [],
   "source": [
    "df['timeStamp'] = pd.to_datetime(df['timeStamp'])"
   ]
  },
  {
   "cell_type": "markdown",
   "id": "e3c530b8",
   "metadata": {
    "papermill": {
     "duration": 0.013971,
     "end_time": "2022-10-20T15:48:14.330730",
     "exception": false,
     "start_time": "2022-10-20T15:48:14.316759",
     "status": "completed"
    },
    "tags": []
   },
   "source": [
    "**You can use Jupyter's tab method to explore the various attributes you can call. Now that the timestamp column are actually DateTime objects, use .apply() to create 3 new columns called Hour, Month, and Day of Week. You will create these columns based off of the timeStamp column, reference the solutions if you get stuck on this step.**"
   ]
  },
  {
   "cell_type": "code",
   "execution_count": 18,
   "id": "2f0617ac",
   "metadata": {
    "execution": {
     "iopub.execute_input": "2022-10-20T15:48:14.361790Z",
     "iopub.status.busy": "2022-10-20T15:48:14.360880Z",
     "iopub.status.idle": "2022-10-20T15:48:24.766815Z",
     "shell.execute_reply": "2022-10-20T15:48:24.765542Z"
    },
    "papermill": {
     "duration": 10.424767,
     "end_time": "2022-10-20T15:48:24.769792",
     "exception": false,
     "start_time": "2022-10-20T15:48:14.345025",
     "status": "completed"
    },
    "tags": []
   },
   "outputs": [],
   "source": [
    "df['Hour'] = df['timeStamp'].apply(lambda time: time.hour)\n",
    "df['Month'] = df['timeStamp'].apply(lambda time: time.month)\n",
    "df['Day of Week'] = df['timeStamp'].apply(lambda time: time.dayofweek)"
   ]
  },
  {
   "cell_type": "markdown",
   "id": "fa7d4c10",
   "metadata": {
    "papermill": {
     "duration": 0.014164,
     "end_time": "2022-10-20T15:48:24.799439",
     "exception": false,
     "start_time": "2022-10-20T15:48:24.785275",
     "status": "completed"
    },
    "tags": []
   },
   "source": [
    "** Data we have of the day of week is in the form of integer ranging from 0 to 6 and it is better to define in terms of week days so we initialize a dictionary and map the results with it using the map() function **"
   ]
  },
  {
   "cell_type": "code",
   "execution_count": 19,
   "id": "3ce72508",
   "metadata": {
    "execution": {
     "iopub.execute_input": "2022-10-20T15:48:24.831815Z",
     "iopub.status.busy": "2022-10-20T15:48:24.831335Z",
     "iopub.status.idle": "2022-10-20T15:48:24.837146Z",
     "shell.execute_reply": "2022-10-20T15:48:24.835991Z"
    },
    "papermill": {
     "duration": 0.024772,
     "end_time": "2022-10-20T15:48:24.839555",
     "exception": false,
     "start_time": "2022-10-20T15:48:24.814783",
     "status": "completed"
    },
    "tags": []
   },
   "outputs": [],
   "source": [
    "dmap = {0:'Mon',1:'Tue',2:'Wed',3:'Thu',4:'Fri',5:'Sat',6:'Sun'}"
   ]
  },
  {
   "cell_type": "code",
   "execution_count": 20,
   "id": "d25701e6",
   "metadata": {
    "execution": {
     "iopub.execute_input": "2022-10-20T15:48:24.871010Z",
     "iopub.status.busy": "2022-10-20T15:48:24.870559Z",
     "iopub.status.idle": "2022-10-20T15:48:24.896303Z",
     "shell.execute_reply": "2022-10-20T15:48:24.895205Z"
    },
    "papermill": {
     "duration": 0.045046,
     "end_time": "2022-10-20T15:48:24.899286",
     "exception": false,
     "start_time": "2022-10-20T15:48:24.854240",
     "status": "completed"
    },
    "tags": []
   },
   "outputs": [],
   "source": [
    "df['Day of Week'] = df['Day of Week'].map(dmap)"
   ]
  },
  {
   "cell_type": "markdown",
   "id": "dd44d30e",
   "metadata": {
    "papermill": {
     "duration": 0.014267,
     "end_time": "2022-10-20T15:48:24.928148",
     "exception": false,
     "start_time": "2022-10-20T15:48:24.913881",
     "status": "completed"
    },
    "tags": []
   },
   "source": [
    "** Now use seaborn to create a countplot of the Day of Week column with the hue based off of the Reason column. **"
   ]
  },
  {
   "cell_type": "code",
   "execution_count": 21,
   "id": "2ed0e5b3",
   "metadata": {
    "execution": {
     "iopub.execute_input": "2022-10-20T15:48:24.959213Z",
     "iopub.status.busy": "2022-10-20T15:48:24.958746Z",
     "iopub.status.idle": "2022-10-20T15:48:26.050320Z",
     "shell.execute_reply": "2022-10-20T15:48:26.049094Z"
    },
    "papermill": {
     "duration": 1.110307,
     "end_time": "2022-10-20T15:48:26.052907",
     "exception": false,
     "start_time": "2022-10-20T15:48:24.942600",
     "status": "completed"
    },
    "tags": []
   },
   "outputs": [
    {
     "data": {
      "text/plain": [
       "<matplotlib.legend.Legend at 0x7f8b9a9b1050>"
      ]
     },
     "execution_count": 21,
     "metadata": {},
     "output_type": "execute_result"
    },
    {
     "data": {
      "image/png": "[encoded data removed]",
      "text/plain": [
       "<Figure size 432x288 with 1 Axes>"
      ]
     },
     "metadata": {
      "needs_background": "light"
     },
     "output_type": "display_data"
    }
   ],
   "source": [
    "sns.countplot(x='Day of Week',data=df,hue='Reason',palette='viridis')\n",
    "\n",
    "# To relocate the legend\n",
    "plt.legend(bbox_to_anchor=(1.05, 1), loc=2, borderaxespad=0.)"
   ]
  },
  {
   "cell_type": "markdown",
   "id": "61a1f5ff",
   "metadata": {
    "papermill": {
     "duration": 0.014397,
     "end_time": "2022-10-20T15:48:26.082132",
     "exception": false,
     "start_time": "2022-10-20T15:48:26.067735",
     "status": "completed"
    },
    "tags": []
   },
   "source": [
    "** Now do the same for Month:**"
   ]
  },
  {
   "cell_type": "code",
   "execution_count": 22,
   "id": "5aa12c7d",
   "metadata": {
    "execution": {
     "iopub.execute_input": "2022-10-20T15:48:26.113863Z",
     "iopub.status.busy": "2022-10-20T15:48:26.113400Z",
     "iopub.status.idle": "2022-10-20T15:48:26.870517Z",
     "shell.execute_reply": "2022-10-20T15:48:26.869293Z"
    },
    "papermill": {
     "duration": 0.776551,
     "end_time": "2022-10-20T15:48:26.873323",
     "exception": false,
     "start_time": "2022-10-20T15:48:26.096772",
     "status": "completed"
    },
    "tags": []
   },
   "outputs": [
    {
     "data": {
      "text/plain": [
       "<matplotlib.legend.Legend at 0x7f8b9a10e290>"
      ]
     },
     "execution_count": 22,
     "metadata": {},
     "output_type": "execute_result"
    },
    {
     "data": {
      "image/png": "[encoded data removed]",
      "text/plain": [
       "<Figure size 432x288 with 1 Axes>"
      ]
     },
     "metadata": {
      "needs_background": "light"
     },
     "output_type": "display_data"
    }
   ],
   "source": [
    "sns.countplot(x='Month',data=df,hue='Reason',palette='viridis')\n",
    "\n",
    "# To relocate the legend\n",
    "plt.legend(bbox_to_anchor=(1.05, 1), loc=2, borderaxespad=0.)"
   ]
  },
  {
   "cell_type": "markdown",
   "id": "3781b446",
   "metadata": {
    "papermill": {
     "duration": 0.015099,
     "end_time": "2022-10-20T15:48:26.903757",
     "exception": false,
     "start_time": "2022-10-20T15:48:26.888658",
     "status": "completed"
    },
    "tags": []
   },
   "source": [
    "** Now create a gropuby object called byMonth, where you group the DataFrame by the month column and use the count() method for aggregation for better idea of how 911 calls frequencies vary over time. Use the head() method on this returned DataFrame. **"
   ]
  },
  {
   "cell_type": "code",
   "execution_count": 23,
   "id": "ce5e198e",
   "metadata": {
    "execution": {
     "iopub.execute_input": "2022-10-20T15:48:26.936399Z",
     "iopub.status.busy": "2022-10-20T15:48:26.935909Z",
     "iopub.status.idle": "2022-10-20T15:48:27.494220Z",
     "shell.execute_reply": "2022-10-20T15:48:27.493103Z"
    },
    "papermill": {
     "duration": 0.57806,
     "end_time": "2022-10-20T15:48:27.497062",
     "exception": false,
     "start_time": "2022-10-20T15:48:26.919002",
     "status": "completed"
    },
    "tags": []
   },
   "outputs": [
    {
     "data": {
      "text/html": [
       "<div>\n",
       "<style scoped>\n",
       "    .dataframe tbody tr th:only-of-type {\n",
       "        vertical-align: middle;\n",
       "    }\n",
       "\n",
       "    .dataframe tbody tr th {\n",
       "        vertical-align: top;\n",
       "    }\n",
       "\n",
       "    .dataframe thead th {\n",
       "        text-align: right;\n",
       "    }\n",
       "</style>\n",
       "<table border=\"1\" class=\"dataframe\">\n",
       "  <thead>\n",
       "    <tr style=\"text-align: right;\">\n",
       "      <th></th>\n",
       "      <th>lat</th>\n",
       "      <th>lng</th>\n",
       "      <th>desc</th>\n",
       "      <th>zip</th>\n",
       "      <th>title</th>\n",
       "      <th>timeStamp</th>\n",
       "      <th>twp</th>\n",
       "      <th>addr</th>\n",
       "      <th>Reason</th>\n",
       "      <th>Hour</th>\n",
       "      <th>Day of Week</th>\n",
       "    </tr>\n",
       "    <tr>\n",
       "      <th>Month</th>\n",
       "      <th></th>\n",
       "      <th></th>\n",
       "      <th></th>\n",
       "      <th></th>\n",
       "      <th></th>\n",
       "      <th></th>\n",
       "      <th></th>\n",
       "      <th></th>\n",
       "      <th></th>\n",
       "      <th></th>\n",
       "      <th></th>\n",
       "    </tr>\n",
       "  </thead>\n",
       "  <tbody>\n",
       "    <tr>\n",
       "      <th>1</th>\n",
       "      <td>62336</td>\n",
       "      <td>62336</td>\n",
       "      <td>62336</td>\n",
       "      <td>55294</td>\n",
       "      <td>62336</td>\n",
       "      <td>62336</td>\n",
       "      <td>62312</td>\n",
       "      <td>62336</td>\n",
       "      <td>62336</td>\n",
       "      <td>62336</td>\n",
       "      <td>62336</td>\n",
       "    </tr>\n",
       "    <tr>\n",
       "      <th>2</th>\n",
       "      <td>55427</td>\n",
       "      <td>55427</td>\n",
       "      <td>55427</td>\n",
       "      <td>48922</td>\n",
       "      <td>55427</td>\n",
       "      <td>55427</td>\n",
       "      <td>55405</td>\n",
       "      <td>55427</td>\n",
       "      <td>55427</td>\n",
       "      <td>55427</td>\n",
       "      <td>55427</td>\n",
       "    </tr>\n",
       "    <tr>\n",
       "      <th>3</th>\n",
       "      <td>60027</td>\n",
       "      <td>60027</td>\n",
       "      <td>60027</td>\n",
       "      <td>53252</td>\n",
       "      <td>60027</td>\n",
       "      <td>60027</td>\n",
       "      <td>60001</td>\n",
       "      <td>60027</td>\n",
       "      <td>60027</td>\n",
       "      <td>60027</td>\n",
       "      <td>60027</td>\n",
       "    </tr>\n",
       "    <tr>\n",
       "      <th>4</th>\n",
       "      <td>53671</td>\n",
       "      <td>53671</td>\n",
       "      <td>53671</td>\n",
       "      <td>47349</td>\n",
       "      <td>53671</td>\n",
       "      <td>53671</td>\n",
       "      <td>53655</td>\n",
       "      <td>53671</td>\n",
       "      <td>53671</td>\n",
       "      <td>53671</td>\n",
       "      <td>53671</td>\n",
       "    </tr>\n",
       "    <tr>\n",
       "      <th>5</th>\n",
       "      <td>57509</td>\n",
       "      <td>57509</td>\n",
       "      <td>57509</td>\n",
       "      <td>50354</td>\n",
       "      <td>57509</td>\n",
       "      <td>57509</td>\n",
       "      <td>57474</td>\n",
       "      <td>57509</td>\n",
       "      <td>57509</td>\n",
       "      <td>57509</td>\n",
       "      <td>57509</td>\n",
       "    </tr>\n",
       "  </tbody>\n",
       "</table>\n",
       "</div>"
      ],
      "text/plain": [
       "         lat    lng   desc    zip  title  timeStamp    twp   addr  Reason  \\\n",
       "Month                                                                       \n",
       "1      62336  62336  62336  55294  62336      62336  62312  62336   62336   \n",
       "2      55427  55427  55427  48922  55427      55427  55405  55427   55427   \n",
       "3      60027  60027  60027  53252  60027      60027  60001  60027   60027   \n",
       "4      53671  53671  53671  47349  53671      53671  53655  53671   53671   \n",
       "5      57509  57509  57509  50354  57509      57509  57474  57509   57509   \n",
       "\n",
       "        Hour  Day of Week  \n",
       "Month                      \n",
       "1      62336        62336  \n",
       "2      55427        55427  \n",
       "3      60027        60027  \n",
       "4      53671        53671  \n",
       "5      57509        57509  "
      ]
     },
     "execution_count": 23,
     "metadata": {},
     "output_type": "execute_result"
    }
   ],
   "source": [
    "byMonth = df.groupby('Month').count()\n",
    "byMonth.head()"
   ]
  },
  {
   "cell_type": "markdown",
   "id": "af0716af",
   "metadata": {
    "papermill": {
     "duration": 0.015447,
     "end_time": "2022-10-20T15:48:27.528079",
     "exception": false,
     "start_time": "2022-10-20T15:48:27.512632",
     "status": "completed"
    },
    "tags": []
   },
   "source": [
    "** Now create a simple plot off of the dataframe indicating the count of calls per month. **"
   ]
  },
  {
   "cell_type": "code",
   "execution_count": 24,
   "id": "7559c935",
   "metadata": {
    "execution": {
     "iopub.execute_input": "2022-10-20T15:48:27.560837Z",
     "iopub.status.busy": "2022-10-20T15:48:27.560389Z",
     "iopub.status.idle": "2022-10-20T15:48:27.803368Z",
     "shell.execute_reply": "2022-10-20T15:48:27.802159Z"
    },
    "papermill": {
     "duration": 0.262442,
     "end_time": "2022-10-20T15:48:27.805811",
     "exception": false,
     "start_time": "2022-10-20T15:48:27.543369",
     "status": "completed"
    },
    "tags": []
   },
   "outputs": [
    {
     "data": {
      "text/plain": [
       "<AxesSubplot:xlabel='Month'>"
      ]
     },
     "execution_count": 24,
     "metadata": {},
     "output_type": "execute_result"
    },
    {
     "data": {
      "image/png": "[encoded data removed]",
      "text/plain": [
       "<Figure size 432x288 with 1 Axes>"
      ]
     },
     "metadata": {
      "needs_background": "light"
     },
     "output_type": "display_data"
    }
   ],
   "source": [
    "# Could be any column\n",
    "byMonth['twp'].plot()"
   ]
  },
  {
   "cell_type": "markdown",
   "id": "4add339b",
   "metadata": {
    "papermill": {
     "duration": 0.016421,
     "end_time": "2022-10-20T15:48:27.838894",
     "exception": false,
     "start_time": "2022-10-20T15:48:27.822473",
     "status": "completed"
    },
    "tags": []
   },
   "source": [
    "** Now we can use seaborn's lmplot() to create a linear fit on the number of calls per month. Keep in mind you may need to reset the index to a column. **"
   ]
  },
  {
   "cell_type": "code",
   "execution_count": 25,
   "id": "2cc018e1",
   "metadata": {
    "execution": {
     "iopub.execute_input": "2022-10-20T15:48:27.873541Z",
     "iopub.status.busy": "2022-10-20T15:48:27.873042Z",
     "iopub.status.idle": "2022-10-20T15:48:28.313747Z",
     "shell.execute_reply": "2022-10-20T15:48:28.312762Z"
    },
    "papermill": {
     "duration": 0.460727,
     "end_time": "2022-10-20T15:48:28.316066",
     "exception": false,
     "start_time": "2022-10-20T15:48:27.855339",
     "status": "completed"
    },
    "tags": []
   },
   "outputs": [
    {
     "data": {
      "text/plain": [
       "<seaborn.axisgrid.FacetGrid at 0x7f8b99eb1910>"
      ]
     },
     "execution_count": 25,
     "metadata": {},
     "output_type": "execute_result"
    },
    {
     "data": {
      "image/png": "[encoded data removed]",
      "text/plain": [
       "<Figure size 360x360 with 1 Axes>"
      ]
     },
     "metadata": {
      "needs_background": "light"
     },
     "output_type": "display_data"
    }
   ],
   "source": [
    "sns.lmplot(x='Month',y='twp',data=byMonth.reset_index())"
   ]
  },
  {
   "cell_type": "markdown",
   "id": "833bed88",
   "metadata": {
    "papermill": {
     "duration": 0.016542,
     "end_time": "2022-10-20T15:48:28.349626",
     "exception": false,
     "start_time": "2022-10-20T15:48:28.333084",
     "status": "completed"
    },
    "tags": []
   },
   "source": [
    "**Create a new column called 'Date' that contains the date from the timeStamp column. You'll need to use apply along with the .date() method. ** "
   ]
  },
  {
   "cell_type": "code",
   "execution_count": 26,
   "id": "65b573cb",
   "metadata": {
    "execution": {
     "iopub.execute_input": "2022-10-20T15:48:28.385375Z",
     "iopub.status.busy": "2022-10-20T15:48:28.384864Z",
     "iopub.status.idle": "2022-10-20T15:48:31.881357Z",
     "shell.execute_reply": "2022-10-20T15:48:31.879911Z"
    },
    "papermill": {
     "duration": 3.518079,
     "end_time": "2022-10-20T15:48:31.884505",
     "exception": false,
     "start_time": "2022-10-20T15:48:28.366426",
     "status": "completed"
    },
    "tags": []
   },
   "outputs": [],
   "source": [
    "df['Date']=df['timeStamp'].apply(lambda t: t.date())"
   ]
  },
  {
   "cell_type": "markdown",
   "id": "87d1a2d5",
   "metadata": {
    "papermill": {
     "duration": 0.016672,
     "end_time": "2022-10-20T15:48:31.918694",
     "exception": false,
     "start_time": "2022-10-20T15:48:31.902022",
     "status": "completed"
    },
    "tags": []
   },
   "source": [
    "** Now we groupby this Date column with the count() aggregate and create a plot of counts of 911 calls.**"
   ]
  },
  {
   "cell_type": "code",
   "execution_count": 27,
   "id": "5d01c55f",
   "metadata": {
    "execution": {
     "iopub.execute_input": "2022-10-20T15:48:31.954221Z",
     "iopub.status.busy": "2022-10-20T15:48:31.953769Z",
     "iopub.status.idle": "2022-10-20T15:48:32.794027Z",
     "shell.execute_reply": "2022-10-20T15:48:32.792917Z"
    },
    "papermill": {
     "duration": 0.86124,
     "end_time": "2022-10-20T15:48:32.796497",
     "exception": false,
     "start_time": "2022-10-20T15:48:31.935257",
     "status": "completed"
    },
    "tags": []
   },
   "outputs": [
    {
     "data": {
      "image/png": "[encoded data removed]",
      "text/plain": [
       "<Figure size 432x288 with 1 Axes>"
      ]
     },
     "metadata": {
      "needs_background": "light"
     },
     "output_type": "display_data"
    }
   ],
   "source": [
    "df.groupby('Date').count()['twp'].plot()\n",
    "plt.tight_layout()"
   ]
  },
  {
   "cell_type": "markdown",
   "id": "c6ae9571",
   "metadata": {
    "papermill": {
     "duration": 0.016598,
     "end_time": "2022-10-20T15:48:32.830545",
     "exception": false,
     "start_time": "2022-10-20T15:48:32.813947",
     "status": "completed"
    },
    "tags": []
   },
   "source": [
    "** Now recreate this plot but create 3 separate plots with each plot representing a Reason for the 911 call**"
   ]
  },
  {
   "cell_type": "code",
   "execution_count": 28,
   "id": "24f10226",
   "metadata": {
    "execution": {
     "iopub.execute_input": "2022-10-20T15:48:32.867586Z",
     "iopub.status.busy": "2022-10-20T15:48:32.867080Z",
     "iopub.status.idle": "2022-10-20T15:48:33.438143Z",
     "shell.execute_reply": "2022-10-20T15:48:33.437220Z"
    },
    "papermill": {
     "duration": 0.592085,
     "end_time": "2022-10-20T15:48:33.440506",
     "exception": false,
     "start_time": "2022-10-20T15:48:32.848421",
     "status": "completed"
    },
    "tags": []
   },
   "outputs": [
    {
     "data": {
      "image/png": "[encoded data removed]",
      "text/plain": [
       "<Figure size 432x288 with 1 Axes>"
      ]
     },
     "metadata": {
      "needs_background": "light"
     },
     "output_type": "display_data"
    }
   ],
   "source": [
    "df[df['Reason']=='Traffic'].groupby('Date').count()['twp'].plot()\n",
    "plt.title('Traffic')\n",
    "plt.tight_layout()"
   ]
  },
  {
   "cell_type": "code",
   "execution_count": 29,
   "id": "3ba583e8",
   "metadata": {
    "execution": {
     "iopub.execute_input": "2022-10-20T15:48:33.477661Z",
     "iopub.status.busy": "2022-10-20T15:48:33.476891Z",
     "iopub.status.idle": "2022-10-20T15:48:33.950400Z",
     "shell.execute_reply": "2022-10-20T15:48:33.949186Z"
    },
    "papermill": {
     "duration": 0.495315,
     "end_time": "2022-10-20T15:48:33.953153",
     "exception": false,
     "start_time": "2022-10-20T15:48:33.457838",
     "status": "completed"
    },
    "tags": []
   },
   "outputs": [
    {
     "data": {
      "image/png": "[encoded data removed]",
      "text/plain": [
       "<Figure size 432x288 with 1 Axes>"
      ]
     },
     "metadata": {
      "needs_background": "light"
     },
     "output_type": "display_data"
    }
   ],
   "source": [
    "df[df['Reason']=='Fire'].groupby('Date').count()['twp'].plot()\n",
    "plt.title('Fire')\n",
    "plt.tight_layout()"
   ]
  },
  {
   "cell_type": "code",
   "execution_count": 30,
   "id": "f2e90b07",
   "metadata": {
    "execution": {
     "iopub.execute_input": "2022-10-20T15:48:33.990973Z",
     "iopub.status.busy": "2022-10-20T15:48:33.990238Z",
     "iopub.status.idle": "2022-10-20T15:48:34.630386Z",
     "shell.execute_reply": "2022-10-20T15:48:34.629493Z"
    },
    "papermill": {
     "duration": 0.661916,
     "end_time": "2022-10-20T15:48:34.632930",
     "exception": false,
     "start_time": "2022-10-20T15:48:33.971014",
     "status": "completed"
    },
    "tags": []
   },
   "outputs": [
    {
     "data": {
      "image/png": "[encoded data removed]",
      "text/plain": [
       "<Figure size 432x288 with 1 Axes>"
      ]
     },
     "metadata": {
      "needs_background": "light"
     },
     "output_type": "display_data"
    }
   ],
   "source": [
    "df[df['Reason']=='EMS'].groupby('Date').count()['twp'].plot()\n",
    "plt.title('EMS')\n",
    "plt.tight_layout()"
   ]
  },
  {
   "cell_type": "markdown",
   "id": "1b5a358e",
   "metadata": {
    "papermill": {
     "duration": 0.018031,
     "end_time": "2022-10-20T15:48:34.669563",
     "exception": false,
     "start_time": "2022-10-20T15:48:34.651532",
     "status": "completed"
    },
    "tags": []
   },
   "source": [
    "# 5. Heat Maps\n",
    "** Now let's move on to creating  heatmaps with seaborn and our data. We'll first need to restructure the dataframe so that the columns become the Hours and the Index becomes the Day of the Week **"
   ]
  },
  {
   "cell_type": "code",
   "execution_count": 31,
   "id": "212a8ff4",
   "metadata": {
    "execution": {
     "iopub.execute_input": "2022-10-20T15:48:34.710580Z",
     "iopub.status.busy": "2022-10-20T15:48:34.709857Z",
     "iopub.status.idle": "2022-10-20T15:48:35.131958Z",
     "shell.execute_reply": "2022-10-20T15:48:35.130767Z"
    },
    "papermill": {
     "duration": 0.445609,
     "end_time": "2022-10-20T15:48:35.134570",
     "exception": false,
     "start_time": "2022-10-20T15:48:34.688961",
     "status": "completed"
    },
    "tags": []
   },
   "outputs": [
    {
     "data": {
      "text/html": [
       "<div>\n",
       "<style scoped>\n",
       "    .dataframe tbody tr th:only-of-type {\n",
       "        vertical-align: middle;\n",
       "    }\n",
       "\n",
       "    .dataframe tbody tr th {\n",
       "        vertical-align: top;\n",
       "    }\n",
       "\n",
       "    .dataframe thead th {\n",
       "        text-align: right;\n",
       "    }\n",
       "</style>\n",
       "<table border=\"1\" class=\"dataframe\">\n",
       "  <thead>\n",
       "    <tr style=\"text-align: right;\">\n",
       "      <th>Hour</th>\n",
       "      <th>0</th>\n",
       "      <th>1</th>\n",
       "      <th>2</th>\n",
       "      <th>3</th>\n",
       "      <th>4</th>\n",
       "      <th>5</th>\n",
       "      <th>6</th>\n",
       "      <th>7</th>\n",
       "      <th>8</th>\n",
       "      <th>9</th>\n",
       "      <th>...</th>\n",
       "      <th>14</th>\n",
       "      <th>15</th>\n",
       "      <th>16</th>\n",
       "      <th>17</th>\n",
       "      <th>18</th>\n",
       "      <th>19</th>\n",
       "      <th>20</th>\n",
       "      <th>21</th>\n",
       "      <th>22</th>\n",
       "      <th>23</th>\n",
       "    </tr>\n",
       "    <tr>\n",
       "      <th>Day of Week</th>\n",
       "      <th></th>\n",
       "      <th></th>\n",
       "      <th></th>\n",
       "      <th></th>\n",
       "      <th></th>\n",
       "      <th></th>\n",
       "      <th></th>\n",
       "      <th></th>\n",
       "      <th></th>\n",
       "      <th></th>\n",
       "      <th></th>\n",
       "      <th></th>\n",
       "      <th></th>\n",
       "      <th></th>\n",
       "      <th></th>\n",
       "      <th></th>\n",
       "      <th></th>\n",
       "      <th></th>\n",
       "      <th></th>\n",
       "      <th></th>\n",
       "      <th></th>\n",
       "    </tr>\n",
       "  </thead>\n",
       "  <tbody>\n",
       "    <tr>\n",
       "      <th>Fri</th>\n",
       "      <td>1983</td>\n",
       "      <td>1635</td>\n",
       "      <td>1449</td>\n",
       "      <td>1296</td>\n",
       "      <td>1339</td>\n",
       "      <td>1639</td>\n",
       "      <td>2670</td>\n",
       "      <td>4143</td>\n",
       "      <td>5018</td>\n",
       "      <td>5288</td>\n",
       "      <td>...</td>\n",
       "      <td>6394</td>\n",
       "      <td>7040</td>\n",
       "      <td>7065</td>\n",
       "      <td>7113</td>\n",
       "      <td>5668</td>\n",
       "      <td>5056</td>\n",
       "      <td>4375</td>\n",
       "      <td>3913</td>\n",
       "      <td>3422</td>\n",
       "      <td>2834</td>\n",
       "    </tr>\n",
       "    <tr>\n",
       "      <th>Mon</th>\n",
       "      <td>1894</td>\n",
       "      <td>1571</td>\n",
       "      <td>1368</td>\n",
       "      <td>1272</td>\n",
       "      <td>1336</td>\n",
       "      <td>1844</td>\n",
       "      <td>2675</td>\n",
       "      <td>4430</td>\n",
       "      <td>5504</td>\n",
       "      <td>5724</td>\n",
       "      <td>...</td>\n",
       "      <td>5713</td>\n",
       "      <td>6289</td>\n",
       "      <td>6346</td>\n",
       "      <td>6408</td>\n",
       "      <td>5441</td>\n",
       "      <td>4488</td>\n",
       "      <td>3823</td>\n",
       "      <td>3254</td>\n",
       "      <td>2658</td>\n",
       "      <td>2072</td>\n",
       "    </tr>\n",
       "    <tr>\n",
       "      <th>Sat</th>\n",
       "      <td>2447</td>\n",
       "      <td>2059</td>\n",
       "      <td>1883</td>\n",
       "      <td>1592</td>\n",
       "      <td>1451</td>\n",
       "      <td>1580</td>\n",
       "      <td>1880</td>\n",
       "      <td>2489</td>\n",
       "      <td>3457</td>\n",
       "      <td>4315</td>\n",
       "      <td>...</td>\n",
       "      <td>5421</td>\n",
       "      <td>5181</td>\n",
       "      <td>5211</td>\n",
       "      <td>5213</td>\n",
       "      <td>4980</td>\n",
       "      <td>4753</td>\n",
       "      <td>4127</td>\n",
       "      <td>3895</td>\n",
       "      <td>3226</td>\n",
       "      <td>2965</td>\n",
       "    </tr>\n",
       "    <tr>\n",
       "      <th>Sun</th>\n",
       "      <td>2424</td>\n",
       "      <td>2135</td>\n",
       "      <td>1946</td>\n",
       "      <td>1614</td>\n",
       "      <td>1471</td>\n",
       "      <td>1488</td>\n",
       "      <td>1726</td>\n",
       "      <td>2408</td>\n",
       "      <td>3001</td>\n",
       "      <td>3728</td>\n",
       "      <td>...</td>\n",
       "      <td>4744</td>\n",
       "      <td>4475</td>\n",
       "      <td>4560</td>\n",
       "      <td>4505</td>\n",
       "      <td>4402</td>\n",
       "      <td>4135</td>\n",
       "      <td>3748</td>\n",
       "      <td>3161</td>\n",
       "      <td>2629</td>\n",
       "      <td>2323</td>\n",
       "    </tr>\n",
       "    <tr>\n",
       "      <th>Thu</th>\n",
       "      <td>1731</td>\n",
       "      <td>1408</td>\n",
       "      <td>1426</td>\n",
       "      <td>1236</td>\n",
       "      <td>1293</td>\n",
       "      <td>1775</td>\n",
       "      <td>2816</td>\n",
       "      <td>4432</td>\n",
       "      <td>5297</td>\n",
       "      <td>5412</td>\n",
       "      <td>...</td>\n",
       "      <td>6079</td>\n",
       "      <td>6493</td>\n",
       "      <td>6375</td>\n",
       "      <td>6935</td>\n",
       "      <td>5512</td>\n",
       "      <td>4703</td>\n",
       "      <td>4045</td>\n",
       "      <td>3490</td>\n",
       "      <td>2844</td>\n",
       "      <td>2354</td>\n",
       "    </tr>\n",
       "  </tbody>\n",
       "</table>\n",
       "<p>5 rows × 24 columns</p>\n",
       "</div>"
      ],
      "text/plain": [
       "Hour           0     1     2     3     4     5     6     7     8     9   ...  \\\n",
       "Day of Week                                                              ...   \n",
       "Fri          1983  1635  1449  1296  1339  1639  2670  4143  5018  5288  ...   \n",
       "Mon          1894  1571  1368  1272  1336  1844  2675  4430  5504  5724  ...   \n",
       "Sat          2447  2059  1883  1592  1451  1580  1880  2489  3457  4315  ...   \n",
       "Sun          2424  2135  1946  1614  1471  1488  1726  2408  3001  3728  ...   \n",
       "Thu          1731  1408  1426  1236  1293  1775  2816  4432  5297  5412  ...   \n",
       "\n",
       "Hour           14    15    16    17    18    19    20    21    22    23  \n",
       "Day of Week                                                              \n",
       "Fri          6394  7040  7065  7113  5668  5056  4375  3913  3422  2834  \n",
       "Mon          5713  6289  6346  6408  5441  4488  3823  3254  2658  2072  \n",
       "Sat          5421  5181  5211  5213  4980  4753  4127  3895  3226  2965  \n",
       "Sun          4744  4475  4560  4505  4402  4135  3748  3161  2629  2323  \n",
       "Thu          6079  6493  6375  6935  5512  4703  4045  3490  2844  2354  \n",
       "\n",
       "[5 rows x 24 columns]"
      ]
     },
     "execution_count": 31,
     "metadata": {},
     "output_type": "execute_result"
    }
   ],
   "source": [
    "dayHour = df.groupby(by=['Day of Week','Hour']).count()['Reason'].unstack()\n",
    "dayHour.head()"
   ]
  },
  {
   "cell_type": "markdown",
   "id": "05ff5862",
   "metadata": {
    "papermill": {
     "duration": 0.018394,
     "end_time": "2022-10-20T15:48:35.172164",
     "exception": false,
     "start_time": "2022-10-20T15:48:35.153770",
     "status": "completed"
    },
    "tags": []
   },
   "source": [
    "** Now create a HeatMap using this new DataFrame. **"
   ]
  },
  {
   "cell_type": "code",
   "execution_count": 32,
   "id": "3e5d9e34",
   "metadata": {
    "execution": {
     "iopub.execute_input": "2022-10-20T15:48:35.211722Z",
     "iopub.status.busy": "2022-10-20T15:48:35.211099Z",
     "iopub.status.idle": "2022-10-20T15:48:35.812598Z",
     "shell.execute_reply": "2022-10-20T15:48:35.811740Z"
    },
    "papermill": {
     "duration": 0.624082,
     "end_time": "2022-10-20T15:48:35.814803",
     "exception": false,
     "start_time": "2022-10-20T15:48:35.190721",
     "status": "completed"
    },
    "tags": []
   },
   "outputs": [
    {
     "data": {
      "text/plain": [
       "<AxesSubplot:xlabel='Hour', ylabel='Day of Week'>"
      ]
     },
     "execution_count": 32,
     "metadata": {},
     "output_type": "execute_result"
    },
    {
     "data": {
      "image/png": "[encoded data removed]",
      "text/plain": [
       "<Figure size 864x432 with 2 Axes>"
      ]
     },
     "metadata": {
      "needs_background": "light"
     },
     "output_type": "display_data"
    }
   ],
   "source": [
    "plt.figure(figsize=(12,6))\n",
    "sns.heatmap(dayHour,cmap='viridis')"
   ]
  },
  {
   "cell_type": "markdown",
   "id": "a2694742",
   "metadata": {
    "papermill": {
     "duration": 0.019059,
     "end_time": "2022-10-20T15:48:35.852992",
     "exception": false,
     "start_time": "2022-10-20T15:48:35.833933",
     "status": "completed"
    },
    "tags": []
   },
   "source": [
    "# 6. ClusterMap \n",
    "** Now create a clustermap using this DataFrame. **"
   ]
  },
  {
   "cell_type": "code",
   "execution_count": 33,
   "id": "07ae0cd0",
   "metadata": {
    "execution": {
     "iopub.execute_input": "2022-10-20T15:48:35.893210Z",
     "iopub.status.busy": "2022-10-20T15:48:35.892474Z",
     "iopub.status.idle": "2022-10-20T15:48:36.515522Z",
     "shell.execute_reply": "2022-10-20T15:48:36.514207Z"
    },
    "papermill": {
     "duration": 0.646164,
     "end_time": "2022-10-20T15:48:36.518104",
     "exception": false,
     "start_time": "2022-10-20T15:48:35.871940",
     "status": "completed"
    },
    "tags": []
   },
   "outputs": [
    {
     "data": {
      "text/plain": [
       "<seaborn.matrix.ClusterGrid at 0x7f8b99c20c90>"
      ]
     },
     "execution_count": 33,
     "metadata": {},
     "output_type": "execute_result"
    },
    {
     "data": {
      "image/png": "[encoded data removed]",
      "text/plain": [
       "<Figure size 720x720 with 4 Axes>"
      ]
     },
     "metadata": {
      "needs_background": "light"
     },
     "output_type": "display_data"
    }
   ],
   "source": [
    "sns.clustermap(dayHour,cmap='viridis')"
   ]
  },
  {
   "cell_type": "markdown",
   "id": "b8581231",
   "metadata": {
    "papermill": {
     "duration": 0.018855,
     "end_time": "2022-10-20T15:48:36.556394",
     "exception": false,
     "start_time": "2022-10-20T15:48:36.537539",
     "status": "completed"
    },
    "tags": []
   },
   "source": [
    "** Now repeat these same plots and operations, for a DataFrame that shows the Month as the column. **"
   ]
  },
  {
   "cell_type": "code",
   "execution_count": 34,
   "id": "f40580f9",
   "metadata": {
    "execution": {
     "iopub.execute_input": "2022-10-20T15:48:36.602015Z",
     "iopub.status.busy": "2022-10-20T15:48:36.601504Z",
     "iopub.status.idle": "2022-10-20T15:48:37.040258Z",
     "shell.execute_reply": "2022-10-20T15:48:37.039376Z"
    },
    "papermill": {
     "duration": 0.462608,
     "end_time": "2022-10-20T15:48:37.042814",
     "exception": false,
     "start_time": "2022-10-20T15:48:36.580206",
     "status": "completed"
    },
    "tags": []
   },
   "outputs": [
    {
     "data": {
      "text/html": [
       "<div>\n",
       "<style scoped>\n",
       "    .dataframe tbody tr th:only-of-type {\n",
       "        vertical-align: middle;\n",
       "    }\n",
       "\n",
       "    .dataframe tbody tr th {\n",
       "        vertical-align: top;\n",
       "    }\n",
       "\n",
       "    .dataframe thead th {\n",
       "        text-align: right;\n",
       "    }\n",
       "</style>\n",
       "<table border=\"1\" class=\"dataframe\">\n",
       "  <thead>\n",
       "    <tr style=\"text-align: right;\">\n",
       "      <th>Month</th>\n",
       "      <th>1</th>\n",
       "      <th>2</th>\n",
       "      <th>3</th>\n",
       "      <th>4</th>\n",
       "      <th>5</th>\n",
       "      <th>6</th>\n",
       "      <th>7</th>\n",
       "      <th>8</th>\n",
       "      <th>9</th>\n",
       "      <th>10</th>\n",
       "      <th>11</th>\n",
       "      <th>12</th>\n",
       "    </tr>\n",
       "    <tr>\n",
       "      <th>Day of Week</th>\n",
       "      <th></th>\n",
       "      <th></th>\n",
       "      <th></th>\n",
       "      <th></th>\n",
       "      <th></th>\n",
       "      <th></th>\n",
       "      <th></th>\n",
       "      <th></th>\n",
       "      <th></th>\n",
       "      <th></th>\n",
       "      <th></th>\n",
       "      <th></th>\n",
       "    </tr>\n",
       "  </thead>\n",
       "  <tbody>\n",
       "    <tr>\n",
       "      <th>Fri</th>\n",
       "      <td>9309</td>\n",
       "      <td>8255</td>\n",
       "      <td>10941</td>\n",
       "      <td>7997</td>\n",
       "      <td>8904</td>\n",
       "      <td>9207</td>\n",
       "      <td>8681</td>\n",
       "      <td>7336</td>\n",
       "      <td>7694</td>\n",
       "      <td>6934</td>\n",
       "      <td>8379</td>\n",
       "      <td>9305</td>\n",
       "    </tr>\n",
       "    <tr>\n",
       "      <th>Mon</th>\n",
       "      <td>8896</td>\n",
       "      <td>8747</td>\n",
       "      <td>8060</td>\n",
       "      <td>8410</td>\n",
       "      <td>7881</td>\n",
       "      <td>8511</td>\n",
       "      <td>9499</td>\n",
       "      <td>6854</td>\n",
       "      <td>6598</td>\n",
       "      <td>8075</td>\n",
       "      <td>6722</td>\n",
       "      <td>8492</td>\n",
       "    </tr>\n",
       "    <tr>\n",
       "      <th>Sat</th>\n",
       "      <td>8475</td>\n",
       "      <td>7593</td>\n",
       "      <td>8050</td>\n",
       "      <td>7514</td>\n",
       "      <td>7223</td>\n",
       "      <td>8198</td>\n",
       "      <td>7748</td>\n",
       "      <td>6111</td>\n",
       "      <td>6566</td>\n",
       "      <td>6609</td>\n",
       "      <td>6773</td>\n",
       "      <td>8592</td>\n",
       "    </tr>\n",
       "    <tr>\n",
       "      <th>Sun</th>\n",
       "      <td>7478</td>\n",
       "      <td>6452</td>\n",
       "      <td>6766</td>\n",
       "      <td>6865</td>\n",
       "      <td>6694</td>\n",
       "      <td>6837</td>\n",
       "      <td>7859</td>\n",
       "      <td>5275</td>\n",
       "      <td>5956</td>\n",
       "      <td>6316</td>\n",
       "      <td>5196</td>\n",
       "      <td>7165</td>\n",
       "    </tr>\n",
       "    <tr>\n",
       "      <th>Thu</th>\n",
       "      <td>9055</td>\n",
       "      <td>7997</td>\n",
       "      <td>8849</td>\n",
       "      <td>7722</td>\n",
       "      <td>8740</td>\n",
       "      <td>9489</td>\n",
       "      <td>8378</td>\n",
       "      <td>7508</td>\n",
       "      <td>6954</td>\n",
       "      <td>7482</td>\n",
       "      <td>8358</td>\n",
       "      <td>8151</td>\n",
       "    </tr>\n",
       "  </tbody>\n",
       "</table>\n",
       "</div>"
      ],
      "text/plain": [
       "Month          1     2      3     4     5     6     7     8     9     10  \\\n",
       "Day of Week                                                                \n",
       "Fri          9309  8255  10941  7997  8904  9207  8681  7336  7694  6934   \n",
       "Mon          8896  8747   8060  8410  7881  8511  9499  6854  6598  8075   \n",
       "Sat          8475  7593   8050  7514  7223  8198  7748  6111  6566  6609   \n",
       "Sun          7478  6452   6766  6865  6694  6837  7859  5275  5956  6316   \n",
       "Thu          9055  7997   8849  7722  8740  9489  8378  7508  6954  7482   \n",
       "\n",
       "Month          11    12  \n",
       "Day of Week              \n",
       "Fri          8379  9305  \n",
       "Mon          6722  8492  \n",
       "Sat          6773  8592  \n",
       "Sun          5196  7165  \n",
       "Thu          8358  8151  "
      ]
     },
     "execution_count": 34,
     "metadata": {},
     "output_type": "execute_result"
    }
   ],
   "source": [
    "dayMonth = df.groupby(by=['Day of Week','Month']).count()['Reason'].unstack()\n",
    "dayMonth.head()"
   ]
  },
  {
   "cell_type": "code",
   "execution_count": 35,
   "id": "e01d469f",
   "metadata": {
    "execution": {
     "iopub.execute_input": "2022-10-20T15:48:37.086277Z",
     "iopub.status.busy": "2022-10-20T15:48:37.084762Z",
     "iopub.status.idle": "2022-10-20T15:48:37.433690Z",
     "shell.execute_reply": "2022-10-20T15:48:37.432333Z"
    },
    "papermill": {
     "duration": 0.373049,
     "end_time": "2022-10-20T15:48:37.436275",
     "exception": false,
     "start_time": "2022-10-20T15:48:37.063226",
     "status": "completed"
    },
    "tags": []
   },
   "outputs": [
    {
     "data": {
      "text/plain": [
       "<AxesSubplot:xlabel='Month', ylabel='Day of Week'>"
      ]
     },
     "execution_count": 35,
     "metadata": {},
     "output_type": "execute_result"
    },
    {
     "data": {
      "image/png": "[encoded data removed]",
      "text/plain": [
       "<Figure size 864x432 with 2 Axes>"
      ]
     },
     "metadata": {
      "needs_background": "light"
     },
     "output_type": "display_data"
    }
   ],
   "source": [
    "plt.figure(figsize=(12,6))\n",
    "sns.heatmap(dayMonth,cmap='viridis')"
   ]
  },
  {
   "cell_type": "code",
   "execution_count": 36,
   "id": "8c2b336d",
   "metadata": {
    "execution": {
     "iopub.execute_input": "2022-10-20T15:48:37.479611Z",
     "iopub.status.busy": "2022-10-20T15:48:37.478480Z",
     "iopub.status.idle": "2022-10-20T15:48:38.056032Z",
     "shell.execute_reply": "2022-10-20T15:48:38.054757Z"
    },
    "papermill": {
     "duration": 0.602375,
     "end_time": "2022-10-20T15:48:38.058977",
     "exception": false,
     "start_time": "2022-10-20T15:48:37.456602",
     "status": "completed"
    },
    "tags": []
   },
   "outputs": [
    {
     "data": {
      "text/plain": [
       "<seaborn.matrix.ClusterGrid at 0x7f8b99a38610>"
      ]
     },
     "execution_count": 36,
     "metadata": {},
     "output_type": "execute_result"
    },
    {
     "data": {
      "image/png": "[encoded data removed]",
      "text/plain": [
       "<Figure size 720x720 with 4 Axes>"
      ]
     },
     "metadata": {
      "needs_background": "light"
     },
     "output_type": "display_data"
    }
   ],
   "source": [
    "sns.clustermap(dayMonth,cmap='viridis')"
   ]
  }
 ],
 "metadata": {
  "kernelspec": {
   "display_name": "Python 3",
   "language": "python",
   "name": "python3"
  },
  "language_info": {
   "codemirror_mode": {
    "name": "ipython",
    "version": 3
   },
   "file_extension": ".py",
   "mimetype": "text/x-python",
   "name": "python",
   "nbconvert_exporter": "python",
   "pygments_lexer": "ipython3",
   "version": "3.7.12"
  },
  "papermill": {
   "default_parameters": {},
   "duration": 42.68216,
   "end_time": "2022-10-20T15:48:39.309146",
   "environment_variables": {},
   "exception": null,
   "input_path": "__notebook__.ipynb",
   "output_path": "__notebook__.ipynb",
   "parameters": {},
   "start_time": "2022-10-20T15:47:56.626986",
   "version": "2.3.4"
  }
 },
 "nbformat": 4,
 "nbformat_minor": 5
}
